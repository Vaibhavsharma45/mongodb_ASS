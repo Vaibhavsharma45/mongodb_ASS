{
 "cells": [
  {
   "cell_type": "markdown",
   "id": "12b5ae95",
   "metadata": {},
   "source": [
    "# MONGO DB PRACTICAL QUESTION "
   ]
  },
  {
   "cell_type": "code",
   "execution_count": null,
   "id": "b1f4424c",
   "metadata": {
    "vscode": {
     "languageId": "plaintext"
    }
   },
   "outputs": [],
   "source": [
    "#1. Write a Python script to load the Superstore dataset from a CSV file into MongoDB.\n",
    "#ans:-\n",
    "import pymongo\n",
    "import csv\n",
    "\n",
    "# 1. Connect to MongoDB\n",
    "client = pymongo.MongoClient(\"mongodb://localhost:27017/\")\n",
    "db = client[\"superstore_db\"]\n",
    "collection = db[\"orders\"]\n",
    "\n",
    "# 2. Clear old data\n",
    "collection.delete_many({})\n",
    "\n",
    "# 3. Read CSV and insert into MongoDB\n",
    "csv_file_path = 'superstore.csv'\n",
    "data_to_insert = []\n",
    "\n",
    "# Open file with the correct encoding\n",
    "with open(csv_file_path, mode='r', encoding='latin-1') as file:\n",
    "    csv_reader = csv.DictReader(file)\n",
    "    for row in csv_reader:\n",
    "        # Convert numeric fields\n",
    "        try:\n",
    "            row['Sales'] = float(row.get('Sales', 0))\n",
    "            row['Quantity'] = int(row.get('Quantity', 0))\n",
    "            row['Discount'] = float(row.get('Discount', 0))\n",
    "            row['Profit'] = float(row.get('Profit', 0))\n",
    "        except (ValueError, TypeError):\n",
    "            pass \n",
    "        data_to_insert.append(row)\n",
    "\n",
    "if data_to_insert:\n",
    "    collection.insert_many(data_to_insert)\n",
    "    print(f\"Successfully loaded {len(data_to_insert)} documents.\")\n",
    "\n",
    "\n"
   ]
  },
  {
   "cell_type": "code",
   "execution_count": null,
   "id": "c13be4ec",
   "metadata": {
    "vscode": {
     "languageId": "plaintext"
    }
   },
   "outputs": [],
   "source": [
    "#2. Retrieve and print all documents from the Orders collection.\n",
    "#ans:-\n",
    "# find({}) with an empty dictionary retrieves all documents\n",
    "all_orders = collection.find({})\n",
    "\n",
    "# The result is a cursor, which we can iterate over\n",
    "for order in all_orders:\n",
    "    print(order)"
   ]
  },
  {
   "cell_type": "code",
   "execution_count": null,
   "id": "fb982777",
   "metadata": {
    "vscode": {
     "languageId": "plaintext"
    }
   },
   "outputs": [],
   "source": [
    "#3. Count and display the total number of documents in the Orders collection\n",
    "#ans:-\n",
    "# count_documents({}) with an empty filter counts all documents\n",
    "total_documents = collection.count_documents({})\n",
    "\n",
    "print(f\"Total number of documents in the Orders collection: {total_documents}\")"
   ]
  },
  {
   "cell_type": "code",
   "execution_count": null,
   "id": "774c35ac",
   "metadata": {
    "vscode": {
     "languageId": "plaintext"
    }
   },
   "outputs": [],
   "source": [
    "#4. Write a query to fetch all orders from the \"West\" region. \n",
    "#ans:-\n",
    "# The filter {\"Region\": \"West\"} specifies the condition\n",
    "west_region_orders = collection.find({\"Region\": \"West\"})\n",
    "\n",
    "print(\"Orders from the West region:\")\n",
    "for order in west_region_orders:\n",
    "    print(order)"
   ]
  },
  {
   "cell_type": "code",
   "execution_count": null,
   "id": "d88b6eec",
   "metadata": {
    "vscode": {
     "languageId": "plaintext"
    }
   },
   "outputs": [],
   "source": [
    "#5. Write a query to find orders where Sales is greater than 500.\n",
    "#ans:-\n",
    "# The $gt operator stands for \"greater than\"\n",
    "high_sales_orders = collection.find({\"Sales\": {\"$gt\": 500}})\n",
    "\n",
    "print(\"Orders with Sales greater than 500:\")\n",
    "for order in high_sales_orders:\n",
    "    print(order)"
   ]
  },
  {
   "cell_type": "code",
   "execution_count": null,
   "id": "f8b669ca",
   "metadata": {
    "vscode": {
     "languageId": "plaintext"
    }
   },
   "outputs": [],
   "source": [
    "#6. Fetch the top 3 orders with the highest Profit. \n",
    "#ans:-\n",
    "# We use sort() to order the results and limit() to get the top N\n",
    "# pymongo.DESCENDING or -1 is used for descending order\n",
    "top_3_profit_orders = collection.find({}).sort(\"Profit\", pymongo.DESCENDING).limit(3)\n",
    "\n",
    "print(\"Top 3 orders with the highest profit:\")\n",
    "for order in top_3_profit_orders:\n",
    "    print(order)"
   ]
  },
  {
   "cell_type": "code",
   "execution_count": null,
   "id": "197b0cdb",
   "metadata": {
    "vscode": {
     "languageId": "plaintext"
    }
   },
   "outputs": [],
   "source": [
    "#7. Update all orders with Ship Mode as \"First Class\" to \"Premium Class.\"\n",
    "#ans:-\n",
    "# The first dictionary is the filter, the second is the update operation\n",
    "# $set is used to update the value of a field\n",
    "update_result = collection.update_many(\n",
    "    {\"Ship Mode\": \"First Class\"},\n",
    "    {\"$set\": {\"Ship Mode\": \"Premium Class\"}}\n",
    ")\n",
    "\n",
    "print(f\"Matched {update_result.matched_count} documents and modified {update_result.modified_count} documents.\")\n"
   ]
  },
  {
   "cell_type": "code",
   "execution_count": null,
   "id": "21be35e7",
   "metadata": {
    "vscode": {
     "languageId": "plaintext"
    }
   },
   "outputs": [],
   "source": [
    "#8. Delete all orders where Sales is less than 50\n",
    "#ans:-\n",
    "# The $lt operator stands for \"less than\"\n",
    "delete_result = collection.delete_many({\"Sales\": {\"$lt\": 50}})\n",
    "\n",
    "print(f\"Deleted {delete_result.deleted_count} documents where Sales was less than 50.\")"
   ]
  },
  {
   "cell_type": "code",
   "execution_count": null,
   "id": "4bcf8c94",
   "metadata": {
    "vscode": {
     "languageId": "plaintext"
    }
   },
   "outputs": [],
   "source": [
    "#9. Use aggregation to group orders by Region and calculate total sales per region.\n",
    "#ans:-\n",
    "# The aggregation pipeline is a list of stages\n",
    "pipeline = [\n",
    "    {\n",
    "        \"$group\": {\n",
    "            \"_id\": \"$Region\",  # Group by the \"Region\" field\n",
    "            \"TotalSales\": {\"$sum\": \"$Sales\"}  # Calculate the sum of \"Sales\" for each group\n",
    "        }\n",
    "    },\n",
    "    {\n",
    "        \"$sort\": {\"TotalSales\": -1} # Optional: sort by total sales\n",
    "    }\n",
    "]\n",
    "\n",
    "sales_by_region = collection.aggregate(pipeline)\n",
    "\n",
    "print(\"Total sales per region:\")\n",
    "for region_data in sales_by_region:\n",
    "    print(region_data)"
   ]
  },
  {
   "cell_type": "code",
   "execution_count": null,
   "id": "a5c2527a",
   "metadata": {
    "vscode": {
     "languageId": "plaintext"
    }
   },
   "outputs": [],
   "source": [
    "#10. Fetch all distinct values for Ship Mode from the collection\n",
    "#ans:-\n",
    "# The distinct() method returns a list of unique values for a given field\n",
    "distinct_ship_modes = collection.distinct(\"Ship Mode\")\n",
    "\n",
    "print(\"Distinct Ship Modes:\")\n",
    "print(distinct_ship_modes)"
   ]
  },
  {
   "cell_type": "code",
   "execution_count": null,
   "id": "586c807e",
   "metadata": {
    "vscode": {
     "languageId": "plaintext"
    }
   },
   "outputs": [],
   "source": [
    "#11. Count the number of orders for each category.\n",
    "#ans:-\n",
    "# This aggregation pipeline groups by \"Category\" and counts the documents in each group\n",
    "pipeline = [\n",
    "    {\n",
    "        \"$group\": {\n",
    "            \"_id\": \"$Category\",\n",
    "            \"OrderCount\": {\"$sum\": 1} # For each document in the group, add 1 to the count\n",
    "        }\n",
    "    }\n",
    "]\n",
    "\n",
    "orders_per_category = collection.aggregate(pipeline)\n",
    "\n",
    "print(\"Number of orders per category:\")\n",
    "for category_count in orders_per_category:\n",
    "    print(category_count)"
   ]
  },
  {
   "cell_type": "code",
   "execution_count": null,
   "id": "e92603c6",
   "metadata": {
    "vscode": {
     "languageId": "plaintext"
    }
   },
   "outputs": [],
   "source": [
    "#  Close the connection\n",
    "client.close()\n",
    "print(\"Connection closed.\")"
   ]
  }
 ],
 "metadata": {
  "language_info": {
   "name": "python"
  }
 },
 "nbformat": 4,
 "nbformat_minor": 5
}
